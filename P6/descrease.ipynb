{
 "cells": [
  {
   "cell_type": "markdown",
   "id": "dca4b5f9",
   "metadata": {},
   "source": [
    "# Tugas Paper: Algoritma Decrease and conquer\n",
    "\n",
    "## 1. Pengertian\n",
    "**Pengertian Menurut Gemini**<br>\n",
    "Prompt : berikan pengertian dari algoritma Decrease and conquer, buatkan dalam bentuk paragraf <br>\n",
    "Algoritma Decrease and Conquer adalah sebuah teknik perancangan algoritma yang bekerja dengan cara memecah masalah menjadi sebuah submasalah yang lebih kecil (satu submasalah) dari masalah aslinya, lalu menyelesaikan submasalah tersebut. Setelah submasalah diselesaikan, solusinya kemudian digunakan untuk mendapatkan solusi dari masalah awal. Proses pengurangan ukuran masalah ini diulangi hingga masalah menjadi sangat sederhana dan dapat diselesaikan secara langsung. Terdapat tiga variasi utama dari teknik ini: Decrease by a constant (mengurangi ukuran masalah sebesar nilai konstan, seperti n→n−1), Decrease by a constant factor (mengurangi ukuran masalah sebesar faktor konstan, seperti n→n/2), dan Variable size decrease (ukuran masalah berkurang secara bervariasi dari satu langkah ke langkah berikutnya). Contoh-contoh algoritma yang menggunakan teknik ini meliputi pencarian biner (Decrease by a constant factor), penyisipan (insertion sort) (Decrease by a constant), dan algoritma Euclidean (Variable size decrease).\n",
    "\n",
    "**Pengertian Menurut Saya**<br>\n",
    "fibewufbewuifwe\n",
    "\n",
    "## 2. Kelebihan dan Kekurangan\n",
    "\n",
    "**Menurut Gemini**<br>\n",
    "Prompt : apa Kelebihan dan Kekurangan dari algoritma Decrease and conquer, berikan dalam bentuk list <br>\n",
    "\n",
    "### Kelebihan\n",
    "- Sederhana dan Intuitif: Cara berpikirnya sangat langsung; mengurangi masalah menjadi versi yang lebih kecil (n→n−1 atau n→n/2) membuatnya mudah dipahami dan diimplementasikan, terutama untuk masalah rekursif.\n",
    "\n",
    "- Efisiensi untuk Masalah Tertentu: Terutama varian Decrease by a constant factor (seperti Pencarian Biner), menghasilkan kompleksitas waktu yang sangat efisien, yaitu O(logn).\n",
    "\n",
    "- Menghemat Ruang Memori (Space Efficiency): Dibandingkan dengan teknik Divide and Conquer (yang sering kali memanggil dua sub-proses atau lebih), Decrease and Conquer hanya memanggil satu sub-proses, sehingga penggunaan stack rekursi cenderung lebih kecil.\n",
    "\n",
    "- Dasar untuk Iterasi: Banyak algoritma Decrease by a constant (misalnya: Insertion Sort dan faktorial) dapat dengan mudah dikonversi dari bentuk rekursif menjadi bentuk iteratif, yang sering kali lebih cepat dalam eksekusi nyata.\n",
    "\n",
    "### Kekurangan\n",
    "- Sulit Diterapkan Secara Paralel: Karena algoritma ini secara inheren bersifat sekuensial (solusi dari langkah n−1 harus diketahui sebelum menyelesaikan n), sulit untuk membagi pekerjaan dan memprosesnya secara bersamaan (paralelisasi), yang membatasi manfaat pada sistem multi-core.\n",
    "\n",
    "- Potensi Kedalaman Rekursi Tinggi: Untuk varian Decrease by a constant (n→n−1), kedalaman rekursi sama dengan ukuran input n. Untuk nilai n yang sangat besar, ini dapat menyebabkan Stack Overflow jika implementasi rekursif tidak dioptimalkan (misalnya dengan rekursi ekor/ tail recursion).\n",
    "\n",
    "- Inefisiensi untuk Varian Tertentu: Varian Decrease by a constant (misalnya: Insertion Sort) sering menghasilkan kompleksitas waktu O(n2) untuk kasus terburuk, yang kurang efisien dibandingkan algoritma O(nlogn) dari teknik lain (seperti Divide and Conquer).\n",
    "\n",
    "- Tidak Semua Masalah Cocok: Tidak semua masalah dapat dengan mudah diformulasikan ulang menjadi satu submasalah yang sedikit lebih kecil yang dapat digunakan untuk mendapatkan solusi masalah aslinya.\n",
    "\n",
    "\n",
    "**Menurut Saya**<br>\n",
    "### Kelebihan\n",
    "\n",
    "### Kekurangan\n",
    "- Tidak cocok untuk masalah yang sudah kec\n",
    "\n",
    "\n",
    "## 3. Contoh dalam Permasalahan di Sekitar\n",
    "**Menurut Saya**<br>\n",
    "Hari minggu merupakan hari mencuci pakaian kotor yang menumpuk, aku memilah berdasarkan baju, celana, dan pakaian bebas sebelum di cuci. Membagi (Divide) tumpukan besar menjadi tiga tumpukan sedang yang tersusun, aku fokus pada tumpukan baju dulu untuk di cuci dan setelah baju aku lanjutkan ke tumpukan celana (Conquer). Setelah semua sudah cuci, semua pakaian aku gabungkan (Gabungkan) di satu keranjang besar untuk dibawa ke tempat penjemuran\n",
    "\n",
    "# 4. Kesimpulan\n",
    "**Menurut Gemini**<br>\n",
    "\n",
    "Prompt : berikan kesimpulan dari pembahasan kita mengenai Decrease and Conquer, berikan dalam bentuk paragraf<br>\n",
    "Kesimpulan dari pembahasan kita mengenai algoritma Decrease and Conquer adalah bahwa ia merupakan teknik perancangan algoritma yang sangat efektif dan fundamental, yang bekerja dengan prinsip utama mereduksi ukuran masalah menjadi satu submasalah yang lebih kecil, lalu menggunakan solusi submasalah tersebut untuk menyelesaikan masalah aslinya. Teknik ini dibedakan menjadi tiga varian utama—Decrease by a constant (seperti pada Insertion Sort), Decrease by a constant factor (seperti pada Pencarian Biner), dan Variable size decrease (seperti pada Algoritma Euclidean)—yang memungkinkan penerapannya pada berbagai jenis masalah. Kekuatan utamanya terletak pada strukturnya yang sederhana dan potensi efisiensi waktu yang luar biasa, terutama untuk varian constant factor yang mencapai O(logn). Meskipun demikian, teknik ini memiliki keterbatasan, seperti kesulitan dalam paralelisasi dan potensi inefisiensi (O(n2)) pada varian constant tertentu. Secara keseluruhan, Decrease and Conquer adalah paradigma penting yang mengajarkan kita untuk menyelesaikan masalah besar dengan cara memecahkannya selangkah demi selangkah ke tingkat yang lebih mudah.\n",
    "\n",
    "**Menurut Saya**<br>\n",
    "kesimpulan: algori\n"
   ]
  },
  {
   "cell_type": "markdown",
   "id": "f7e33c44",
   "metadata": {},
   "source": [
    "# Studi Kasus Sorting Decrease and conquer Himpunan Angka Teracak\n",
    "## Latar Belakang Masalah\n",
    "Pengurutan (sorting) adalah salah satu masalah fundamental dan paling sering dipelajari dalam ilmu komputer. Efisiensi sebuah algoritma pengurutan sangat menentukan kinerja sistem secara keseluruhan, terutama ketika berhadapan dengan himpunan data yang besar (himpunan angka teracak). Untuk menyelesaikan masalah ini, terdapat dua paradigma desain algoritma yang dominan dan sering dibandingkan: Decrease and Conquer dan Divide and Conquer.\n",
    "\n",
    "Decrease and Conquer bekerja dengan mengubah instansi masalah menjadi satu submasalah yang lebih kecil, lalu menggunakan solusi dari submasalah tersebut untuk menyelesaikan masalah aslinya. Dalam konteks pengurutan, teknik ini sering diilustrasikan melalui algoritma seperti Insertion Sort (contoh Decrease by a constant, n→n−1). Algoritma ini membangun larik terurut secara bertahap, dengan memecahkan masalah pengurutan n elemen menjadi masalah pengurutan n−1 elemen, dan kemudian menyisipkan elemen terakhir ke posisi yang benar. Pendekatan ini dikenal karena kemudahannya dalam implementasi dan efisiensi memori yang baik.\n",
    "\n",
    "Sebaliknya, paradigma Divide and Conquer membagi masalah menjadi dua atau lebih submasalah yang independen, menyelesaikan masing-masing submasalah secara rekursif, dan kemudian menggabungkan solusi-solusi tersebut (combine) untuk membentuk solusi akhir. Contoh klasiknya adalah Merge Sort atau Quick Sort. Algoritma ini umumnya menunjukkan kinerja waktu yang superior untuk himpunan data besar, seringkali mencapai kompleksitas O(nlogn), menjadikannya pilihan utama dalam komputasi berkecepatan tinggi.\n",
    "\n",
    "Oleh karena perbedaan mendasar dalam strategi pemecahan masalah—pemrosesan tunggal yang inkremental (Decrease and Conquer) versus pemrosesan paralel yang masif diikuti penggabungan (Divide and Conquer)—latar belakang masalah ini bertujuan untuk menganalisis dan membandingkan secara mendalam bagaimana kedua paradigma tersebut diterapkan dalam studi kasus pengurutan himpunan angka teracak, serta menentukan efisiensi relatif, terutama dalam hal kompleksitas waktu dan ruang yang dibutuhkan.\n",
    "\n",
    "## Implementasi Himpunan Angka Teracak Menggunakan Sorting Decrease and conquer"
   ]
  },
  {
   "cell_type": "markdown",
   "id": "1d5a52e9",
   "metadata": {},
   "source": []
  }
 ],
 "metadata": {
  "kernelspec": {
   "display_name": "Python 3",
   "language": "python",
   "name": "python3"
  },
  "language_info": {
   "name": "python",
   "version": "3.13.3"
  }
 },
 "nbformat": 4,
 "nbformat_minor": 5
}
